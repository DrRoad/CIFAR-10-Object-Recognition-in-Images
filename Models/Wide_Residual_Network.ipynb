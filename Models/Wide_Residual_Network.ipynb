{
 "cells": [
  {
   "cell_type": "code",
   "execution_count": 74,
   "metadata": {
    "collapsed": true
   },
   "outputs": [],
   "source": [
    "import keras\n",
    "from keras.models import Sequential\n",
    "from keras.utils import np_utils\n",
    "from keras.preprocessing.image import ImageDataGenerator\n",
    "from keras.layers import Dense, Activation, Flatten, Dropout, BatchNormalization\n",
    "from keras.layers import Conv2D, MaxPooling2D,AveragePooling2D\n",
    "from keras.datasets import cifar10\n",
    "from keras import regularizers, optimizers\n",
    "import numpy as np\n",
    "from keras.layers import Add\n",
    "from keras.layers import Input\n",
    "from keras.models import Model\n",
    "from keras.layers import Flatten"
   ]
  },
  {
   "cell_type": "code",
   "execution_count": 87,
   "metadata": {
    "collapsed": true
   },
   "outputs": [],
   "source": [
    "from keras.callbacks import ReduceLROnPlateau, CSVLogger,EarlyStopping,ModelCheckpoint"
   ]
  },
  {
   "cell_type": "code",
   "execution_count": 80,
   "metadata": {
    "collapsed": true
   },
   "outputs": [],
   "source": [
    "x_train = np.load(\"x_train_out.npy\")\n",
    "y_train = np.load(\"y_train_out.npy\")\n",
    "x_test = np.load(\"x_test_out.npy\")\n",
    "y_test = np.load(\"y_test_out.npy\")"
   ]
  },
  {
   "cell_type": "code",
   "execution_count": 81,
   "metadata": {
    "collapsed": true
   },
   "outputs": [],
   "source": [
    "x_train = x_train.astype('float32')\n",
    "x_test = x_test.astype('float32')"
   ]
  },
  {
   "cell_type": "code",
   "execution_count": 82,
   "metadata": {
    "collapsed": true
   },
   "outputs": [],
   "source": [
    "#z-score\n",
    "\n",
    "mean = np.mean(x_train,axis=(0,1,2,3))\n",
    "std = np.std(x_train,axis=(0,1,2,3))\n",
    "x_train = (x_train-mean)/(std+1e-7)\n",
    "x_test = (x_test-mean)/(std+1e-7)"
   ]
  },
  {
   "cell_type": "code",
   "execution_count": 83,
   "metadata": {
    "collapsed": true
   },
   "outputs": [],
   "source": [
    "#one hot encoding of target labels\n",
    "num_classes = 10\n",
    "y_train = np_utils.to_categorical(y_train,num_classes)\n",
    "y_test = np_utils.to_categorical(y_test,num_classes)"
   ]
  },
  {
   "cell_type": "code",
   "execution_count": 63,
   "metadata": {
    "collapsed": true
   },
   "outputs": [],
   "source": [
    "#Initial convolutional block it will be common for all WRN-D-K networks\n",
    "def initial_conv(Input):\n",
    "    x = Conv2D(16,kernel_size=(3,3),strides = (1,1),padding = 'same')(Input)\n",
    "    x = BatchNormalization()(x)\n",
    "    x = Activation('relu')(x)\n",
    "    return x"
   ]
  },
  {
   "cell_type": "code",
   "execution_count": 64,
   "metadata": {
    "collapsed": true
   },
   "outputs": [],
   "source": [
    "#Expand Convolutional block having extra convolutional layer in Identity side\n",
    "\n",
    "\"\"\"\n",
    "Conv_no : Used to increase the depth of the network according to corresponding conv block\n",
    "Stride : Used for Downsampling of Image\n",
    "Dropout : Adds dropout if it is greater than 0.0\n",
    "\n",
    "\"\"\"\n",
    "def expand_conv(Input, k=1, conv_no = 1,stride=1,dropout =0.0):\n",
    "    Initial = Input\n",
    "    x = Conv2D(32*k*conv_no,kernel_size=(3,3),strides = (stride,stride),padding = 'same')(Input)\n",
    "    x = BatchNormalization()(x)\n",
    "    x = Activation('relu')(x)\n",
    "    if(dropout > 0):\n",
    "        x = Dropout(dropout)(x)\n",
    "    x = Conv2D(32*k*conv_no,kernel_size=(3,3),strides = (1,1),padding ='same')(x)\n",
    "    skip = Conv2D(32*k*conv_no,kernel_size=(3,3),strides = (stride,stride),padding = 'same')(Input)\n",
    "    output = Add()([x,skip])\n",
    "    return output"
   ]
  },
  {
   "cell_type": "code",
   "execution_count": 1,
   "metadata": {
    "collapsed": true
   },
   "outputs": [],
   "source": [
    "#First Convolutional Block \n",
    "#Input size = 32*32*N\n",
    "\n",
    "\"\"\"\n",
    "K : To Control the depth of residual network\n",
    "Stride : Used for Downsampling of Image\n",
    "Dropout : Adds dropout if it is greater than 0.0\n",
    "\n",
    "\"\"\"\n",
    "def conv_block1(Input, k = 1, stride = 1, dropout = 0.0):\n",
    "    Initial = Input \n",
    "    x = BatchNormalization()(Input)\n",
    "    x = Activation('relu')(x)\n",
    "    x = Conv2D(32*k,kernel_size=(3,3),strides = (stride,stride),padding = 'same')(x)\n",
    "    x = BatchNormalization()(x)\n",
    "    x = Activation('relu')(x)\n",
    "    x = Conv2D(32*k,kernel_size=(3,3),strides = (stride,stride),padding = 'same')(x)\n",
    "    output = Add()([x,Initial])\n",
    "    return output"
   ]
  },
  {
   "cell_type": "code",
   "execution_count": 66,
   "metadata": {
    "collapsed": true
   },
   "outputs": [],
   "source": [
    "#Second Convolutional Block \n",
    "#Input size = 16*16*N\n",
    "\n",
    "\"\"\"\n",
    "K : To Control the depth of residual network\n",
    "Stride : Used for Downsampling of Image\n",
    "Dropout : Adds dropout if it is greater than 0.0\n",
    "\n",
    "\"\"\"\n",
    "def conv_block2(Input, k = 1, stride = 1, dropout = 0.0):\n",
    "    Initial = Input \n",
    "    x = BatchNormalization()(Input)\n",
    "    x = Activation('relu')(x)\n",
    "    x = Conv2D(64*k,kernel_size=(3,3),strides = (stride,stride),padding = 'same')(x)\n",
    "    x = BatchNormalization()(x)\n",
    "    x = Activation('relu')(x)\n",
    "    x = Conv2D(64*k,kernel_size=(3,3),strides = (stride,stride),padding = 'same')(x)\n",
    "    output = Add()([x,Initial])\n",
    "    return output"
   ]
  },
  {
   "cell_type": "code",
   "execution_count": 67,
   "metadata": {
    "collapsed": true
   },
   "outputs": [],
   "source": [
    "#Third Convolutional Block \n",
    "#Input size = 8*8*N\n",
    "\n",
    "\"\"\"\n",
    "K : To Control the depth of residual network\n",
    "Stride : Used for Downsampling of Image\n",
    "Dropout : Adds dropout if it is greater than 0.0\n",
    "\n",
    "\"\"\"\n",
    "def conv_block3(Input, k = 1, stride = 1, dropout = 0.0):\n",
    "    Initial = Input \n",
    "    x = BatchNormalization()(Input)\n",
    "    x = Activation('relu')(x)\n",
    "    x = Conv2D(128*k,kernel_size=(3,3),strides = (stride,stride),padding = 'same')(x)\n",
    "    x = BatchNormalization()(x)\n",
    "    x = Activation('relu')(x)\n",
    "    x = Conv2D(128*k,kernel_size=(3,3),strides = (stride,stride),padding = 'same')(x)\n",
    "    output = Add()([x,Initial])\n",
    "    return output"
   ]
  },
  {
   "cell_type": "code",
   "execution_count": 75,
   "metadata": {
    "collapsed": true
   },
   "outputs": [],
   "source": [
    "\"\"\"\n",
    "Creates Wide Residual network with given parameters\n",
    "\n",
    "height = height of the Image\n",
    "width = width of the Image\n",
    "K = Width of the network(will be multiplied)\n",
    "depth = No of convolutional layers\n",
    "\n",
    "\"\"\"\n",
    "def create_wide_residual_network(height,width,k,depth):\n",
    "    \n",
    "    \n",
    "    \"\"\"\n",
    "    n = depth of the network\n",
    "    Depth of the network. n = (n - 4) / 6.\n",
    "              Example : For a depth of 16, n = 16, N = (16 - 4) / 6 = 2\n",
    "              Example2: For a depth of 28, n = 28, N = (28 - 4) / 6 = 4\n",
    "              Example3: For a depth of 40, n = 40, N = (40 - 4) / 6 = 6\n",
    "              \n",
    "    \"\"\"\n",
    "    n = (depth-4)/6\n",
    "    \n",
    "    #Input tensor\n",
    "    inputs = Input(shape = (height,width,3), name = \"image_input\")\n",
    "    \n",
    "    #Initial Conv block\n",
    "    x = initial_conv(inputs)\n",
    "    \n",
    "    #First Expansion block\n",
    "    x = expand_conv(x,k)\n",
    "    \n",
    "    #First Convolutional Block\n",
    "    #Depth depends on n\n",
    "    for i in range(n-1):\n",
    "        x = conv_block1(x,k)\n",
    "    \n",
    "    x = BatchNormalization()(x)\n",
    "    x = Activation('relu')(x)\n",
    "    \n",
    "    #Second Expansion Block\n",
    "    x = expand_conv(x,k,2,2)\n",
    "    \n",
    "    \n",
    "    #Second Convolutional Block\n",
    "    #Depth depends on n\n",
    "    for i in range(n-1):\n",
    "        x = conv_block2(x,k)\n",
    "        \n",
    "    x = BatchNormalization()(x)\n",
    "    x = Activation('relu')(x)\n",
    "    \n",
    "    #Third Expansion Block\n",
    "    x = expand_conv(x,k,4,2)\n",
    "    \n",
    "    #Third Convolutional Block \n",
    "    #Depth depends on n\n",
    "    for i in range(n-1):\n",
    "        x = conv_block3(x,k)\n",
    "    \n",
    "    x = BatchNormalization()(x)\n",
    "    x = Activation('relu')(x)\n",
    "    \n",
    "    #Avg pooling to get 1*1 feature vectors\n",
    "    x = AveragePooling2D(pool_size=(8,8))(x)\n",
    "    x = Flatten()(x)\n",
    "    \n",
    "    #Classification Layer\n",
    "    x = Dense(10,activation=\"softmax\")(x)\n",
    "    \n",
    "    model = Model(inputs=inputs, outputs=x)\n",
    "    return model"
   ]
  },
  {
   "cell_type": "code",
   "execution_count": 76,
   "metadata": {
    "collapsed": true
   },
   "outputs": [],
   "source": [
    "#Used to create Model by calling above method\n",
    "\n",
    "model = create_wide_residual_network(32,32,10,28)"
   ]
  },
  {
   "cell_type": "code",
   "execution_count": 77,
   "metadata": {},
   "outputs": [
    {
     "name": "stdout",
     "output_type": "stream",
     "text": [
      "____________________________________________________________________________________________________\n",
      "Layer (type)                     Output Shape          Param #     Connected to                     \n",
      "====================================================================================================\n",
      "image_input (InputLayer)         (None, 32, 32, 3)     0                                            \n",
      "____________________________________________________________________________________________________\n",
      "conv2d_230 (Conv2D)              (None, 32, 32, 16)    448         image_input[0][0]                \n",
      "____________________________________________________________________________________________________\n",
      "batch_normalization_197 (BatchNo (None, 32, 32, 16)    64          conv2d_230[0][0]                 \n",
      "____________________________________________________________________________________________________\n",
      "activation_197 (Activation)      (None, 32, 32, 16)    0           batch_normalization_197[0][0]    \n",
      "____________________________________________________________________________________________________\n",
      "conv2d_231 (Conv2D)              (None, 32, 32, 320)   46400       activation_197[0][0]             \n",
      "____________________________________________________________________________________________________\n",
      "batch_normalization_198 (BatchNo (None, 32, 32, 320)   1280        conv2d_231[0][0]                 \n",
      "____________________________________________________________________________________________________\n",
      "activation_198 (Activation)      (None, 32, 32, 320)   0           batch_normalization_198[0][0]    \n",
      "____________________________________________________________________________________________________\n",
      "conv2d_232 (Conv2D)              (None, 32, 32, 320)   921920      activation_198[0][0]             \n",
      "____________________________________________________________________________________________________\n",
      "conv2d_233 (Conv2D)              (None, 32, 32, 320)   46400       activation_197[0][0]             \n",
      "____________________________________________________________________________________________________\n",
      "add_96 (Add)                     (None, 32, 32, 320)   0           conv2d_232[0][0]                 \n",
      "                                                                   conv2d_233[0][0]                 \n",
      "____________________________________________________________________________________________________\n",
      "batch_normalization_199 (BatchNo (None, 32, 32, 320)   1280        add_96[0][0]                     \n",
      "____________________________________________________________________________________________________\n",
      "activation_199 (Activation)      (None, 32, 32, 320)   0           batch_normalization_199[0][0]    \n",
      "____________________________________________________________________________________________________\n",
      "conv2d_234 (Conv2D)              (None, 32, 32, 320)   921920      activation_199[0][0]             \n",
      "____________________________________________________________________________________________________\n",
      "batch_normalization_200 (BatchNo (None, 32, 32, 320)   1280        conv2d_234[0][0]                 \n",
      "____________________________________________________________________________________________________\n",
      "activation_200 (Activation)      (None, 32, 32, 320)   0           batch_normalization_200[0][0]    \n",
      "____________________________________________________________________________________________________\n",
      "conv2d_235 (Conv2D)              (None, 32, 32, 320)   921920      activation_200[0][0]             \n",
      "____________________________________________________________________________________________________\n",
      "add_97 (Add)                     (None, 32, 32, 320)   0           conv2d_235[0][0]                 \n",
      "                                                                   add_96[0][0]                     \n",
      "____________________________________________________________________________________________________\n",
      "batch_normalization_201 (BatchNo (None, 32, 32, 320)   1280        add_97[0][0]                     \n",
      "____________________________________________________________________________________________________\n",
      "activation_201 (Activation)      (None, 32, 32, 320)   0           batch_normalization_201[0][0]    \n",
      "____________________________________________________________________________________________________\n",
      "conv2d_236 (Conv2D)              (None, 32, 32, 320)   921920      activation_201[0][0]             \n",
      "____________________________________________________________________________________________________\n",
      "batch_normalization_202 (BatchNo (None, 32, 32, 320)   1280        conv2d_236[0][0]                 \n",
      "____________________________________________________________________________________________________\n",
      "activation_202 (Activation)      (None, 32, 32, 320)   0           batch_normalization_202[0][0]    \n",
      "____________________________________________________________________________________________________\n",
      "conv2d_237 (Conv2D)              (None, 32, 32, 320)   921920      activation_202[0][0]             \n",
      "____________________________________________________________________________________________________\n",
      "add_98 (Add)                     (None, 32, 32, 320)   0           conv2d_237[0][0]                 \n",
      "                                                                   add_97[0][0]                     \n",
      "____________________________________________________________________________________________________\n",
      "batch_normalization_203 (BatchNo (None, 32, 32, 320)   1280        add_98[0][0]                     \n",
      "____________________________________________________________________________________________________\n",
      "activation_203 (Activation)      (None, 32, 32, 320)   0           batch_normalization_203[0][0]    \n",
      "____________________________________________________________________________________________________\n",
      "conv2d_238 (Conv2D)              (None, 32, 32, 320)   921920      activation_203[0][0]             \n",
      "____________________________________________________________________________________________________\n",
      "batch_normalization_204 (BatchNo (None, 32, 32, 320)   1280        conv2d_238[0][0]                 \n",
      "____________________________________________________________________________________________________\n",
      "activation_204 (Activation)      (None, 32, 32, 320)   0           batch_normalization_204[0][0]    \n",
      "____________________________________________________________________________________________________\n",
      "conv2d_239 (Conv2D)              (None, 32, 32, 320)   921920      activation_204[0][0]             \n",
      "____________________________________________________________________________________________________\n",
      "add_99 (Add)                     (None, 32, 32, 320)   0           conv2d_239[0][0]                 \n",
      "                                                                   add_98[0][0]                     \n",
      "____________________________________________________________________________________________________\n",
      "batch_normalization_205 (BatchNo (None, 32, 32, 320)   1280        add_99[0][0]                     \n",
      "____________________________________________________________________________________________________\n",
      "activation_205 (Activation)      (None, 32, 32, 320)   0           batch_normalization_205[0][0]    \n",
      "____________________________________________________________________________________________________\n",
      "conv2d_240 (Conv2D)              (None, 16, 16, 640)   1843840     activation_205[0][0]             \n",
      "____________________________________________________________________________________________________\n",
      "batch_normalization_206 (BatchNo (None, 16, 16, 640)   2560        conv2d_240[0][0]                 \n",
      "____________________________________________________________________________________________________\n",
      "activation_206 (Activation)      (None, 16, 16, 640)   0           batch_normalization_206[0][0]    \n",
      "____________________________________________________________________________________________________\n",
      "conv2d_241 (Conv2D)              (None, 16, 16, 640)   3687040     activation_206[0][0]             \n",
      "____________________________________________________________________________________________________\n",
      "conv2d_242 (Conv2D)              (None, 16, 16, 640)   1843840     activation_205[0][0]             \n",
      "____________________________________________________________________________________________________\n",
      "add_100 (Add)                    (None, 16, 16, 640)   0           conv2d_241[0][0]                 \n",
      "                                                                   conv2d_242[0][0]                 \n",
      "____________________________________________________________________________________________________\n",
      "batch_normalization_207 (BatchNo (None, 16, 16, 640)   2560        add_100[0][0]                    \n",
      "____________________________________________________________________________________________________\n",
      "activation_207 (Activation)      (None, 16, 16, 640)   0           batch_normalization_207[0][0]    \n",
      "____________________________________________________________________________________________________\n",
      "conv2d_243 (Conv2D)              (None, 16, 16, 640)   3687040     activation_207[0][0]             \n",
      "____________________________________________________________________________________________________\n",
      "batch_normalization_208 (BatchNo (None, 16, 16, 640)   2560        conv2d_243[0][0]                 \n",
      "____________________________________________________________________________________________________\n",
      "activation_208 (Activation)      (None, 16, 16, 640)   0           batch_normalization_208[0][0]    \n",
      "____________________________________________________________________________________________________\n",
      "conv2d_244 (Conv2D)              (None, 16, 16, 640)   3687040     activation_208[0][0]             \n",
      "____________________________________________________________________________________________________\n",
      "add_101 (Add)                    (None, 16, 16, 640)   0           conv2d_244[0][0]                 \n",
      "                                                                   add_100[0][0]                    \n",
      "____________________________________________________________________________________________________\n",
      "batch_normalization_209 (BatchNo (None, 16, 16, 640)   2560        add_101[0][0]                    \n",
      "____________________________________________________________________________________________________\n",
      "activation_209 (Activation)      (None, 16, 16, 640)   0           batch_normalization_209[0][0]    \n",
      "____________________________________________________________________________________________________\n",
      "conv2d_245 (Conv2D)              (None, 16, 16, 640)   3687040     activation_209[0][0]             \n",
      "____________________________________________________________________________________________________\n",
      "batch_normalization_210 (BatchNo (None, 16, 16, 640)   2560        conv2d_245[0][0]                 \n",
      "____________________________________________________________________________________________________\n",
      "activation_210 (Activation)      (None, 16, 16, 640)   0           batch_normalization_210[0][0]    \n",
      "____________________________________________________________________________________________________\n",
      "conv2d_246 (Conv2D)              (None, 16, 16, 640)   3687040     activation_210[0][0]             \n",
      "____________________________________________________________________________________________________\n",
      "add_102 (Add)                    (None, 16, 16, 640)   0           conv2d_246[0][0]                 \n",
      "                                                                   add_101[0][0]                    \n",
      "____________________________________________________________________________________________________\n",
      "batch_normalization_211 (BatchNo (None, 16, 16, 640)   2560        add_102[0][0]                    \n",
      "____________________________________________________________________________________________________\n",
      "activation_211 (Activation)      (None, 16, 16, 640)   0           batch_normalization_211[0][0]    \n",
      "____________________________________________________________________________________________________\n",
      "conv2d_247 (Conv2D)              (None, 16, 16, 640)   3687040     activation_211[0][0]             \n",
      "____________________________________________________________________________________________________\n",
      "batch_normalization_212 (BatchNo (None, 16, 16, 640)   2560        conv2d_247[0][0]                 \n",
      "____________________________________________________________________________________________________\n",
      "activation_212 (Activation)      (None, 16, 16, 640)   0           batch_normalization_212[0][0]    \n",
      "____________________________________________________________________________________________________\n",
      "conv2d_248 (Conv2D)              (None, 16, 16, 640)   3687040     activation_212[0][0]             \n",
      "____________________________________________________________________________________________________\n",
      "add_103 (Add)                    (None, 16, 16, 640)   0           conv2d_248[0][0]                 \n",
      "                                                                   add_102[0][0]                    \n",
      "____________________________________________________________________________________________________\n",
      "batch_normalization_213 (BatchNo (None, 16, 16, 640)   2560        add_103[0][0]                    \n",
      "____________________________________________________________________________________________________\n",
      "activation_213 (Activation)      (None, 16, 16, 640)   0           batch_normalization_213[0][0]    \n",
      "____________________________________________________________________________________________________\n",
      "conv2d_249 (Conv2D)              (None, 8, 8, 1280)    7374080     activation_213[0][0]             \n",
      "____________________________________________________________________________________________________\n",
      "batch_normalization_214 (BatchNo (None, 8, 8, 1280)    5120        conv2d_249[0][0]                 \n",
      "____________________________________________________________________________________________________\n",
      "activation_214 (Activation)      (None, 8, 8, 1280)    0           batch_normalization_214[0][0]    \n",
      "____________________________________________________________________________________________________\n",
      "conv2d_250 (Conv2D)              (None, 8, 8, 1280)    14746880    activation_214[0][0]             \n",
      "____________________________________________________________________________________________________\n",
      "conv2d_251 (Conv2D)              (None, 8, 8, 1280)    7374080     activation_213[0][0]             \n",
      "____________________________________________________________________________________________________\n",
      "add_104 (Add)                    (None, 8, 8, 1280)    0           conv2d_250[0][0]                 \n",
      "                                                                   conv2d_251[0][0]                 \n",
      "____________________________________________________________________________________________________\n",
      "batch_normalization_215 (BatchNo (None, 8, 8, 1280)    5120        add_104[0][0]                    \n",
      "____________________________________________________________________________________________________\n",
      "activation_215 (Activation)      (None, 8, 8, 1280)    0           batch_normalization_215[0][0]    \n",
      "____________________________________________________________________________________________________\n",
      "conv2d_252 (Conv2D)              (None, 8, 8, 1280)    14746880    activation_215[0][0]             \n",
      "____________________________________________________________________________________________________\n",
      "batch_normalization_216 (BatchNo (None, 8, 8, 1280)    5120        conv2d_252[0][0]                 \n",
      "____________________________________________________________________________________________________\n",
      "activation_216 (Activation)      (None, 8, 8, 1280)    0           batch_normalization_216[0][0]    \n",
      "____________________________________________________________________________________________________\n",
      "conv2d_253 (Conv2D)              (None, 8, 8, 1280)    14746880    activation_216[0][0]             \n",
      "____________________________________________________________________________________________________\n",
      "add_105 (Add)                    (None, 8, 8, 1280)    0           conv2d_253[0][0]                 \n",
      "                                                                   add_104[0][0]                    \n",
      "____________________________________________________________________________________________________\n",
      "batch_normalization_217 (BatchNo (None, 8, 8, 1280)    5120        add_105[0][0]                    \n",
      "____________________________________________________________________________________________________\n",
      "activation_217 (Activation)      (None, 8, 8, 1280)    0           batch_normalization_217[0][0]    \n",
      "____________________________________________________________________________________________________\n",
      "conv2d_254 (Conv2D)              (None, 8, 8, 1280)    14746880    activation_217[0][0]             \n",
      "____________________________________________________________________________________________________\n",
      "batch_normalization_218 (BatchNo (None, 8, 8, 1280)    5120        conv2d_254[0][0]                 \n",
      "____________________________________________________________________________________________________\n",
      "activation_218 (Activation)      (None, 8, 8, 1280)    0           batch_normalization_218[0][0]    \n",
      "____________________________________________________________________________________________________\n",
      "conv2d_255 (Conv2D)              (None, 8, 8, 1280)    14746880    activation_218[0][0]             \n",
      "____________________________________________________________________________________________________\n",
      "add_106 (Add)                    (None, 8, 8, 1280)    0           conv2d_255[0][0]                 \n",
      "                                                                   add_105[0][0]                    \n",
      "____________________________________________________________________________________________________\n",
      "batch_normalization_219 (BatchNo (None, 8, 8, 1280)    5120        add_106[0][0]                    \n",
      "____________________________________________________________________________________________________\n",
      "activation_219 (Activation)      (None, 8, 8, 1280)    0           batch_normalization_219[0][0]    \n",
      "____________________________________________________________________________________________________\n",
      "conv2d_256 (Conv2D)              (None, 8, 8, 1280)    14746880    activation_219[0][0]             \n",
      "____________________________________________________________________________________________________\n",
      "batch_normalization_220 (BatchNo (None, 8, 8, 1280)    5120        conv2d_256[0][0]                 \n",
      "____________________________________________________________________________________________________\n",
      "activation_220 (Activation)      (None, 8, 8, 1280)    0           batch_normalization_220[0][0]    \n",
      "____________________________________________________________________________________________________\n",
      "conv2d_257 (Conv2D)              (None, 8, 8, 1280)    14746880    activation_220[0][0]             \n",
      "____________________________________________________________________________________________________\n",
      "add_107 (Add)                    (None, 8, 8, 1280)    0           conv2d_257[0][0]                 \n",
      "                                                                   add_106[0][0]                    \n",
      "____________________________________________________________________________________________________\n",
      "batch_normalization_221 (BatchNo (None, 8, 8, 1280)    5120        add_107[0][0]                    \n",
      "____________________________________________________________________________________________________\n",
      "activation_221 (Activation)      (None, 8, 8, 1280)    0           batch_normalization_221[0][0]    \n",
      "____________________________________________________________________________________________________\n",
      "average_pooling2d_1 (AveragePool (None, 1, 1, 1280)    0           activation_221[0][0]             \n",
      "____________________________________________________________________________________________________\n",
      "flatten_1 (Flatten)              (None, 1280)          0           average_pooling2d_1[0][0]        \n",
      "____________________________________________________________________________________________________\n",
      "dense_1 (Dense)                  (None, 10)            12810       flatten_1[0][0]                  \n",
      "====================================================================================================\n",
      "Total params: 154,104,522\n",
      "Trainable params: 154,068,650\n",
      "Non-trainable params: 35,872\n",
      "____________________________________________________________________________________________________\n"
     ]
    }
   ],
   "source": [
    "model.summary()"
   ]
  },
  {
   "cell_type": "code",
   "execution_count": 78,
   "metadata": {
    "collapsed": true
   },
   "outputs": [],
   "source": [
    "from keras.utils import plot_model "
   ]
  },
  {
   "cell_type": "code",
   "execution_count": 79,
   "metadata": {
    "collapsed": true
   },
   "outputs": [],
   "source": [
    "plot_model(model,\"WRN-28-10.png\",show_shapes=True)"
   ]
  },
  {
   "cell_type": "code",
   "execution_count": 84,
   "metadata": {
    "collapsed": true
   },
   "outputs": [],
   "source": [
    "model.compile(loss='categorical_crossentropy',\n",
    "        optimizer=\"Adam\",\n",
    "        metrics=['accuracy'])"
   ]
  },
  {
   "cell_type": "code",
   "execution_count": 91,
   "metadata": {
    "collapsed": true
   },
   "outputs": [],
   "source": [
    "#Defining Callback functions which will be called by model during runtime when specified condition satisfies\n",
    "lr_reducer = ReduceLROnPlateau(factor=np.sqrt(0.1), cooldown=0, patience=2, min_lr=0.5e-6)\n",
    "csv_logger = CSVLogger('WRN-28-10-Without_dropout.csv')\n",
    "early_stopper = EarlyStopping(min_delta=0.001, patience=10)\n",
    "model_chekpoint = ModelCheckpoint(\"WRN-28-10-Without_dropout.hdf5\",monitor = 'val_loss',verbose = 1,save_best_only=True)"
   ]
  },
  {
   "cell_type": "code",
   "execution_count": null,
   "metadata": {
    "collapsed": true
   },
   "outputs": [],
   "source": [
    "#model Parameters\n",
    "batch_size = 64\n",
    "data_augmentation = True\n",
    "epochs = 100"
   ]
  },
  {
   "cell_type": "code",
   "execution_count": 90,
   "metadata": {},
   "outputs": [
    {
     "name": "stdout",
     "output_type": "stream",
     "text": [
      "-------------Using Data augmentation------------\n",
      "Epoch 1/100\n"
     ]
    },
    {
     "ename": "KeyboardInterrupt",
     "evalue": "",
     "output_type": "error",
     "traceback": [
      "\u001b[0;31m---------------------------------------------------------------------------\u001b[0m",
      "\u001b[0;31mKeyboardInterrupt\u001b[0m                         Traceback (most recent call last)",
      "\u001b[0;32m<ipython-input-90-e40b767402f3>\u001b[0m in \u001b[0;36m<module>\u001b[0;34m()\u001b[0m\n\u001b[1;32m     17\u001b[0m     model.fit_generator(datagen.flow(x_train, y_train, batch_size=batch_size),\n\u001b[1;32m     18\u001b[0m                         \u001b[0msteps_per_epoch\u001b[0m\u001b[0;34m=\u001b[0m\u001b[0mx_train\u001b[0m\u001b[0;34m.\u001b[0m\u001b[0mshape\u001b[0m\u001b[0;34m[\u001b[0m\u001b[0;36m0\u001b[0m\u001b[0;34m]\u001b[0m \u001b[0;34m//\u001b[0m \u001b[0mbatch_size\u001b[0m\u001b[0;34m,\u001b[0m\u001b[0;34m\u001b[0m\u001b[0m\n\u001b[0;32m---> 19\u001b[0;31m                         epochs=epochs,verbose=1,validation_data=(x_test,y_test),callbacks = [lr_reducer,early_stopper,csv_logger,model_chekpoint])\n\u001b[0m\u001b[1;32m     20\u001b[0m \u001b[0;34m\u001b[0m\u001b[0m\n\u001b[1;32m     21\u001b[0m \u001b[0;32melse\u001b[0m \u001b[0;34m:\u001b[0m\u001b[0;34m\u001b[0m\u001b[0m\n",
      "\u001b[0;32m/usr/local/lib/python2.7/dist-packages/keras/legacy/interfaces.pyc\u001b[0m in \u001b[0;36mwrapper\u001b[0;34m(*args, **kwargs)\u001b[0m\n\u001b[1;32m     85\u001b[0m                 warnings.warn('Update your `' + object_name +\n\u001b[1;32m     86\u001b[0m                               '` call to the Keras 2 API: ' + signature, stacklevel=2)\n\u001b[0;32m---> 87\u001b[0;31m             \u001b[0;32mreturn\u001b[0m \u001b[0mfunc\u001b[0m\u001b[0;34m(\u001b[0m\u001b[0;34m*\u001b[0m\u001b[0margs\u001b[0m\u001b[0;34m,\u001b[0m \u001b[0;34m**\u001b[0m\u001b[0mkwargs\u001b[0m\u001b[0;34m)\u001b[0m\u001b[0;34m\u001b[0m\u001b[0m\n\u001b[0m\u001b[1;32m     88\u001b[0m         \u001b[0mwrapper\u001b[0m\u001b[0;34m.\u001b[0m\u001b[0m_original_function\u001b[0m \u001b[0;34m=\u001b[0m \u001b[0mfunc\u001b[0m\u001b[0;34m\u001b[0m\u001b[0m\n\u001b[1;32m     89\u001b[0m         \u001b[0;32mreturn\u001b[0m \u001b[0mwrapper\u001b[0m\u001b[0;34m\u001b[0m\u001b[0m\n",
      "\u001b[0;32m/usr/local/lib/python2.7/dist-packages/keras/engine/training.pyc\u001b[0m in \u001b[0;36mfit_generator\u001b[0;34m(self, generator, steps_per_epoch, epochs, verbose, callbacks, validation_data, validation_steps, class_weight, max_queue_size, workers, use_multiprocessing, shuffle, initial_epoch)\u001b[0m\n\u001b[1;32m   2040\u001b[0m                     outs = self.train_on_batch(x, y,\n\u001b[1;32m   2041\u001b[0m                                                \u001b[0msample_weight\u001b[0m\u001b[0;34m=\u001b[0m\u001b[0msample_weight\u001b[0m\u001b[0;34m,\u001b[0m\u001b[0;34m\u001b[0m\u001b[0m\n\u001b[0;32m-> 2042\u001b[0;31m                                                class_weight=class_weight)\n\u001b[0m\u001b[1;32m   2043\u001b[0m \u001b[0;34m\u001b[0m\u001b[0m\n\u001b[1;32m   2044\u001b[0m                     \u001b[0;32mif\u001b[0m \u001b[0;32mnot\u001b[0m \u001b[0misinstance\u001b[0m\u001b[0;34m(\u001b[0m\u001b[0mouts\u001b[0m\u001b[0;34m,\u001b[0m \u001b[0mlist\u001b[0m\u001b[0;34m)\u001b[0m\u001b[0;34m:\u001b[0m\u001b[0;34m\u001b[0m\u001b[0m\n",
      "\u001b[0;32m/usr/local/lib/python2.7/dist-packages/keras/engine/training.pyc\u001b[0m in \u001b[0;36mtrain_on_batch\u001b[0;34m(self, x, y, sample_weight, class_weight)\u001b[0m\n\u001b[1;32m   1760\u001b[0m             \u001b[0mins\u001b[0m \u001b[0;34m=\u001b[0m \u001b[0mx\u001b[0m \u001b[0;34m+\u001b[0m \u001b[0my\u001b[0m \u001b[0;34m+\u001b[0m \u001b[0msample_weights\u001b[0m\u001b[0;34m\u001b[0m\u001b[0m\n\u001b[1;32m   1761\u001b[0m         \u001b[0mself\u001b[0m\u001b[0;34m.\u001b[0m\u001b[0m_make_train_function\u001b[0m\u001b[0;34m(\u001b[0m\u001b[0;34m)\u001b[0m\u001b[0;34m\u001b[0m\u001b[0m\n\u001b[0;32m-> 1762\u001b[0;31m         \u001b[0moutputs\u001b[0m \u001b[0;34m=\u001b[0m \u001b[0mself\u001b[0m\u001b[0;34m.\u001b[0m\u001b[0mtrain_function\u001b[0m\u001b[0;34m(\u001b[0m\u001b[0mins\u001b[0m\u001b[0;34m)\u001b[0m\u001b[0;34m\u001b[0m\u001b[0m\n\u001b[0m\u001b[1;32m   1763\u001b[0m         \u001b[0;32mif\u001b[0m \u001b[0mlen\u001b[0m\u001b[0;34m(\u001b[0m\u001b[0moutputs\u001b[0m\u001b[0;34m)\u001b[0m \u001b[0;34m==\u001b[0m \u001b[0;36m1\u001b[0m\u001b[0;34m:\u001b[0m\u001b[0;34m\u001b[0m\u001b[0m\n\u001b[1;32m   1764\u001b[0m             \u001b[0;32mreturn\u001b[0m \u001b[0moutputs\u001b[0m\u001b[0;34m[\u001b[0m\u001b[0;36m0\u001b[0m\u001b[0;34m]\u001b[0m\u001b[0;34m\u001b[0m\u001b[0m\n",
      "\u001b[0;32m/usr/local/lib/python2.7/dist-packages/keras/backend/tensorflow_backend.pyc\u001b[0m in \u001b[0;36m__call__\u001b[0;34m(self, inputs)\u001b[0m\n\u001b[1;32m   2268\u001b[0m                 \u001b[0mvalue\u001b[0m \u001b[0;34m=\u001b[0m \u001b[0;34m(\u001b[0m\u001b[0mindices\u001b[0m\u001b[0;34m,\u001b[0m \u001b[0msparse_coo\u001b[0m\u001b[0;34m.\u001b[0m\u001b[0mdata\u001b[0m\u001b[0;34m,\u001b[0m \u001b[0msparse_coo\u001b[0m\u001b[0;34m.\u001b[0m\u001b[0mshape\u001b[0m\u001b[0;34m)\u001b[0m\u001b[0;34m\u001b[0m\u001b[0m\n\u001b[1;32m   2269\u001b[0m             \u001b[0mfeed_dict\u001b[0m\u001b[0;34m[\u001b[0m\u001b[0mtensor\u001b[0m\u001b[0;34m]\u001b[0m \u001b[0;34m=\u001b[0m \u001b[0mvalue\u001b[0m\u001b[0;34m\u001b[0m\u001b[0m\n\u001b[0;32m-> 2270\u001b[0;31m         \u001b[0msession\u001b[0m \u001b[0;34m=\u001b[0m \u001b[0mget_session\u001b[0m\u001b[0;34m(\u001b[0m\u001b[0;34m)\u001b[0m\u001b[0;34m\u001b[0m\u001b[0m\n\u001b[0m\u001b[1;32m   2271\u001b[0m         updated = session.run(self.outputs + [self.updates_op],\n\u001b[1;32m   2272\u001b[0m                               \u001b[0mfeed_dict\u001b[0m\u001b[0;34m=\u001b[0m\u001b[0mfeed_dict\u001b[0m\u001b[0;34m,\u001b[0m\u001b[0;34m\u001b[0m\u001b[0m\n",
      "\u001b[0;32m/usr/local/lib/python2.7/dist-packages/keras/backend/tensorflow_backend.pyc\u001b[0m in \u001b[0;36mget_session\u001b[0;34m()\u001b[0m\n\u001b[1;32m    165\u001b[0m     \u001b[0;32mif\u001b[0m \u001b[0;32mnot\u001b[0m \u001b[0m_MANUAL_VAR_INIT\u001b[0m\u001b[0;34m:\u001b[0m\u001b[0;34m\u001b[0m\u001b[0m\n\u001b[1;32m    166\u001b[0m         \u001b[0;32mwith\u001b[0m \u001b[0msession\u001b[0m\u001b[0;34m.\u001b[0m\u001b[0mgraph\u001b[0m\u001b[0;34m.\u001b[0m\u001b[0mas_default\u001b[0m\u001b[0;34m(\u001b[0m\u001b[0;34m)\u001b[0m\u001b[0;34m:\u001b[0m\u001b[0;34m\u001b[0m\u001b[0m\n\u001b[0;32m--> 167\u001b[0;31m             \u001b[0m_initialize_variables\u001b[0m\u001b[0;34m(\u001b[0m\u001b[0;34m)\u001b[0m\u001b[0;34m\u001b[0m\u001b[0m\n\u001b[0m\u001b[1;32m    168\u001b[0m     \u001b[0;32mreturn\u001b[0m \u001b[0msession\u001b[0m\u001b[0;34m\u001b[0m\u001b[0m\n\u001b[1;32m    169\u001b[0m \u001b[0;34m\u001b[0m\u001b[0m\n",
      "\u001b[0;32m/usr/local/lib/python2.7/dist-packages/keras/backend/tensorflow_backend.pyc\u001b[0m in \u001b[0;36m_initialize_variables\u001b[0;34m()\u001b[0m\n\u001b[1;32m    339\u001b[0m     \u001b[0;32mif\u001b[0m \u001b[0muninitialized_variables\u001b[0m\u001b[0;34m:\u001b[0m\u001b[0;34m\u001b[0m\u001b[0m\n\u001b[1;32m    340\u001b[0m         \u001b[0msess\u001b[0m \u001b[0;34m=\u001b[0m \u001b[0mget_session\u001b[0m\u001b[0;34m(\u001b[0m\u001b[0;34m)\u001b[0m\u001b[0;34m\u001b[0m\u001b[0m\n\u001b[0;32m--> 341\u001b[0;31m         \u001b[0msess\u001b[0m\u001b[0;34m.\u001b[0m\u001b[0mrun\u001b[0m\u001b[0;34m(\u001b[0m\u001b[0mtf\u001b[0m\u001b[0;34m.\u001b[0m\u001b[0mvariables_initializer\u001b[0m\u001b[0;34m(\u001b[0m\u001b[0muninitialized_variables\u001b[0m\u001b[0;34m)\u001b[0m\u001b[0;34m)\u001b[0m\u001b[0;34m\u001b[0m\u001b[0m\n\u001b[0m\u001b[1;32m    342\u001b[0m \u001b[0;34m\u001b[0m\u001b[0m\n\u001b[1;32m    343\u001b[0m \u001b[0;34m\u001b[0m\u001b[0m\n",
      "\u001b[0;32m/usr/local/lib/python2.7/dist-packages/tensorflow/python/client/session.pyc\u001b[0m in \u001b[0;36mrun\u001b[0;34m(self, fetches, feed_dict, options, run_metadata)\u001b[0m\n\u001b[1;32m    893\u001b[0m     \u001b[0;32mtry\u001b[0m\u001b[0;34m:\u001b[0m\u001b[0;34m\u001b[0m\u001b[0m\n\u001b[1;32m    894\u001b[0m       result = self._run(None, fetches, feed_dict, options_ptr,\n\u001b[0;32m--> 895\u001b[0;31m                          run_metadata_ptr)\n\u001b[0m\u001b[1;32m    896\u001b[0m       \u001b[0;32mif\u001b[0m \u001b[0mrun_metadata\u001b[0m\u001b[0;34m:\u001b[0m\u001b[0;34m\u001b[0m\u001b[0m\n\u001b[1;32m    897\u001b[0m         \u001b[0mproto_data\u001b[0m \u001b[0;34m=\u001b[0m \u001b[0mtf_session\u001b[0m\u001b[0;34m.\u001b[0m\u001b[0mTF_GetBuffer\u001b[0m\u001b[0;34m(\u001b[0m\u001b[0mrun_metadata_ptr\u001b[0m\u001b[0;34m)\u001b[0m\u001b[0;34m\u001b[0m\u001b[0m\n",
      "\u001b[0;32m/usr/local/lib/python2.7/dist-packages/tensorflow/python/client/session.pyc\u001b[0m in \u001b[0;36m_run\u001b[0;34m(self, handle, fetches, feed_dict, options, run_metadata)\u001b[0m\n\u001b[1;32m   1122\u001b[0m     \u001b[0;32mif\u001b[0m \u001b[0mfinal_fetches\u001b[0m \u001b[0;32mor\u001b[0m \u001b[0mfinal_targets\u001b[0m \u001b[0;32mor\u001b[0m \u001b[0;34m(\u001b[0m\u001b[0mhandle\u001b[0m \u001b[0;32mand\u001b[0m \u001b[0mfeed_dict_tensor\u001b[0m\u001b[0;34m)\u001b[0m\u001b[0;34m:\u001b[0m\u001b[0;34m\u001b[0m\u001b[0m\n\u001b[1;32m   1123\u001b[0m       results = self._do_run(handle, final_targets, final_fetches,\n\u001b[0;32m-> 1124\u001b[0;31m                              feed_dict_tensor, options, run_metadata)\n\u001b[0m\u001b[1;32m   1125\u001b[0m     \u001b[0;32melse\u001b[0m\u001b[0;34m:\u001b[0m\u001b[0;34m\u001b[0m\u001b[0m\n\u001b[1;32m   1126\u001b[0m       \u001b[0mresults\u001b[0m \u001b[0;34m=\u001b[0m \u001b[0;34m[\u001b[0m\u001b[0;34m]\u001b[0m\u001b[0;34m\u001b[0m\u001b[0m\n",
      "\u001b[0;32m/usr/local/lib/python2.7/dist-packages/tensorflow/python/client/session.pyc\u001b[0m in \u001b[0;36m_do_run\u001b[0;34m(self, handle, target_list, fetch_list, feed_dict, options, run_metadata)\u001b[0m\n\u001b[1;32m   1319\u001b[0m     \u001b[0;32mif\u001b[0m \u001b[0mhandle\u001b[0m \u001b[0;32mis\u001b[0m \u001b[0mNone\u001b[0m\u001b[0;34m:\u001b[0m\u001b[0;34m\u001b[0m\u001b[0m\n\u001b[1;32m   1320\u001b[0m       return self._do_call(_run_fn, self._session, feeds, fetches, targets,\n\u001b[0;32m-> 1321\u001b[0;31m                            options, run_metadata)\n\u001b[0m\u001b[1;32m   1322\u001b[0m     \u001b[0;32melse\u001b[0m\u001b[0;34m:\u001b[0m\u001b[0;34m\u001b[0m\u001b[0m\n\u001b[1;32m   1323\u001b[0m       \u001b[0;32mreturn\u001b[0m \u001b[0mself\u001b[0m\u001b[0;34m.\u001b[0m\u001b[0m_do_call\u001b[0m\u001b[0;34m(\u001b[0m\u001b[0m_prun_fn\u001b[0m\u001b[0;34m,\u001b[0m \u001b[0mself\u001b[0m\u001b[0;34m.\u001b[0m\u001b[0m_session\u001b[0m\u001b[0;34m,\u001b[0m \u001b[0mhandle\u001b[0m\u001b[0;34m,\u001b[0m \u001b[0mfeeds\u001b[0m\u001b[0;34m,\u001b[0m \u001b[0mfetches\u001b[0m\u001b[0;34m)\u001b[0m\u001b[0;34m\u001b[0m\u001b[0m\n",
      "\u001b[0;32m/usr/local/lib/python2.7/dist-packages/tensorflow/python/client/session.pyc\u001b[0m in \u001b[0;36m_do_call\u001b[0;34m(self, fn, *args)\u001b[0m\n\u001b[1;32m   1325\u001b[0m   \u001b[0;32mdef\u001b[0m \u001b[0m_do_call\u001b[0m\u001b[0;34m(\u001b[0m\u001b[0mself\u001b[0m\u001b[0;34m,\u001b[0m \u001b[0mfn\u001b[0m\u001b[0;34m,\u001b[0m \u001b[0;34m*\u001b[0m\u001b[0margs\u001b[0m\u001b[0;34m)\u001b[0m\u001b[0;34m:\u001b[0m\u001b[0;34m\u001b[0m\u001b[0m\n\u001b[1;32m   1326\u001b[0m     \u001b[0;32mtry\u001b[0m\u001b[0;34m:\u001b[0m\u001b[0;34m\u001b[0m\u001b[0m\n\u001b[0;32m-> 1327\u001b[0;31m       \u001b[0;32mreturn\u001b[0m \u001b[0mfn\u001b[0m\u001b[0;34m(\u001b[0m\u001b[0;34m*\u001b[0m\u001b[0margs\u001b[0m\u001b[0;34m)\u001b[0m\u001b[0;34m\u001b[0m\u001b[0m\n\u001b[0m\u001b[1;32m   1328\u001b[0m     \u001b[0;32mexcept\u001b[0m \u001b[0merrors\u001b[0m\u001b[0;34m.\u001b[0m\u001b[0mOpError\u001b[0m \u001b[0;32mas\u001b[0m \u001b[0me\u001b[0m\u001b[0;34m:\u001b[0m\u001b[0;34m\u001b[0m\u001b[0m\n\u001b[1;32m   1329\u001b[0m       \u001b[0mmessage\u001b[0m \u001b[0;34m=\u001b[0m \u001b[0mcompat\u001b[0m\u001b[0;34m.\u001b[0m\u001b[0mas_text\u001b[0m\u001b[0;34m(\u001b[0m\u001b[0me\u001b[0m\u001b[0;34m.\u001b[0m\u001b[0mmessage\u001b[0m\u001b[0;34m)\u001b[0m\u001b[0;34m\u001b[0m\u001b[0m\n",
      "\u001b[0;32m/usr/local/lib/python2.7/dist-packages/tensorflow/python/client/session.pyc\u001b[0m in \u001b[0;36m_run_fn\u001b[0;34m(session, feed_dict, fetch_list, target_list, options, run_metadata)\u001b[0m\n\u001b[1;32m   1304\u001b[0m           return tf_session.TF_Run(session, options,\n\u001b[1;32m   1305\u001b[0m                                    \u001b[0mfeed_dict\u001b[0m\u001b[0;34m,\u001b[0m \u001b[0mfetch_list\u001b[0m\u001b[0;34m,\u001b[0m \u001b[0mtarget_list\u001b[0m\u001b[0;34m,\u001b[0m\u001b[0;34m\u001b[0m\u001b[0m\n\u001b[0;32m-> 1306\u001b[0;31m                                    status, run_metadata)\n\u001b[0m\u001b[1;32m   1307\u001b[0m \u001b[0;34m\u001b[0m\u001b[0m\n\u001b[1;32m   1308\u001b[0m     \u001b[0;32mdef\u001b[0m \u001b[0m_prun_fn\u001b[0m\u001b[0;34m(\u001b[0m\u001b[0msession\u001b[0m\u001b[0;34m,\u001b[0m \u001b[0mhandle\u001b[0m\u001b[0;34m,\u001b[0m \u001b[0mfeed_dict\u001b[0m\u001b[0;34m,\u001b[0m \u001b[0mfetch_list\u001b[0m\u001b[0;34m)\u001b[0m\u001b[0;34m:\u001b[0m\u001b[0;34m\u001b[0m\u001b[0m\n",
      "\u001b[0;31mKeyboardInterrupt\u001b[0m: "
     ]
    }
   ],
   "source": [
    "if data_augmentation :\n",
    "    print(\"-------------Using Data augmentation------------\")\n",
    "     # This will do preprocessing and realtime data augmentation:\n",
    "    datagen = ImageDataGenerator(\n",
    "        featurewise_center=False,  # set input mean to 0 over the dataset\n",
    "        samplewise_center=False,  # set each sample mean to 0\n",
    "        featurewise_std_normalization=False,  # divide inputs by std of the dataset\n",
    "        samplewise_std_normalization=False,  # divide each input by its std\n",
    "        zca_whitening=False,  # apply ZCA whitening\n",
    "        rotation_range=0,  # randomly rotate images in the range (degrees, 0 to 180)\n",
    "        width_shift_range=0.1,  # randomly shift images horizontally (fraction of total width)\n",
    "        height_shift_range=0.1,  # randomly shift images vertically (fraction of total height)\n",
    "        horizontal_flip=True,  # randomly flip images\n",
    "        vertical_flip=False)  # randomly flip images\n",
    "    \n",
    "    datagen.fit(x_train)\n",
    "    model.fit_generator(datagen.flow(x_train, y_train, batch_size=batch_size),\n",
    "                        steps_per_epoch=x_train.shape[0] // batch_size,\n",
    "                        epochs=epochs,verbose=1,validation_data=(x_test,y_test),callbacks = [lr_reducer,early_stopper,csv_logger,model_chekpoint])\n",
    "    \n",
    "else :\n",
    "    print(\"-----Not Using Data augmentation---------------\")\n",
    "    model.fit(x_train, y_train,\n",
    "              batch_size=batch_size*4,\n",
    "              epochs=epochs,\n",
    "              validation_data=(x_test, y_test),\n",
    "              shuffle=True)\n",
    "    \n",
    "    \n",
    "    "
   ]
  },
  {
   "cell_type": "code",
   "execution_count": null,
   "metadata": {
    "collapsed": true
   },
   "outputs": [],
   "source": []
  }
 ],
 "metadata": {
  "kernelspec": {
   "display_name": "Python 2",
   "language": "python",
   "name": "python2"
  },
  "language_info": {
   "codemirror_mode": {
    "name": "ipython",
    "version": 2
   },
   "file_extension": ".py",
   "mimetype": "text/x-python",
   "name": "python",
   "nbconvert_exporter": "python",
   "pygments_lexer": "ipython2",
   "version": "2.7.12"
  }
 },
 "nbformat": 4,
 "nbformat_minor": 2
}
