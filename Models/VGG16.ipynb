{
 "cells": [
  {
   "cell_type": "code",
   "execution_count": 57,
   "metadata": {},
   "outputs": [],
   "source": [
    "from keras.applications.vgg16 import VGG16\n",
    "from keras.applications.vgg16 import preprocess_input\n",
    "from keras.layers import Input, Flatten, Dense\n",
    "from keras.models import Model\n",
    "from keras.utils import np_utils\n",
    "from keras.preprocessing.image import ImageDataGenerator\n",
    "from keras import regularizers,optimizers\n",
    "import numpy as np\n",
    "import keras"
   ]
  },
  {
   "cell_type": "code",
   "execution_count": 2,
   "metadata": {
    "collapsed": true
   },
   "outputs": [],
   "source": [
    "from keras.datasets import cifar10"
   ]
  },
  {
   "cell_type": "code",
   "execution_count": 23,
   "metadata": {
    "collapsed": true
   },
   "outputs": [],
   "source": [
    "def PretrainedModel(input_shape, num_of_classes) :\n",
    "    vgg_16_model = VGG16(weights=None,include_top= False)\n",
    "    vgg_16_model.summary()\n",
    "    vgg_16_model.load_weights('vgg16_weights_tf_dim_ordering_tf_kernels_notop.h5')\n",
    "    \n",
    "    print(len(vgg_16_model.layers))\n",
    "    \n",
    "    for i in range(19):\n",
    "        vgg_16_model.layers[i].trainable = False\n",
    "    \n",
    "    inputs = Input(shape = (input_shape,input_shape,3), name = \"image_input\")\n",
    "    \n",
    "    output_vgg16_model = vgg_16_model(inputs)\n",
    "    \n",
    "    #Add the fully-connected layers \n",
    "    x = Flatten(name='flatten')(output_vgg16_model)\n",
    "    x = Dense(4096, activation='relu', name='fc1')(x)\n",
    "    x = Dense(4096, activation='relu', name='fc2')(x)\n",
    "    x = Dense(num_of_classes, activation='softmax', name='predictions')(x)\n",
    "\n",
    "    #Create your own model \n",
    "    cifar10_vgg = Model(inputs=inputs, outputs=x)\n",
    "\n",
    "    #In the summary, weights and layers from VGG part will be hidden, but they will be fit during the training\n",
    "    cifar10_vgg.summary()\n",
    "    \n",
    "    print(len(cifar10_vgg.layers))\n",
    "    \n",
    "    return cifar10_vgg\n",
    "\n",
    "    "
   ]
  },
  {
   "cell_type": "code",
   "execution_count": 24,
   "metadata": {},
   "outputs": [
    {
     "name": "stdout",
     "output_type": "stream",
     "text": [
      "_________________________________________________________________\n",
      "Layer (type)                 Output Shape              Param #   \n",
      "=================================================================\n",
      "input_11 (InputLayer)        (None, None, None, 3)     0         \n",
      "_________________________________________________________________\n",
      "block1_conv1 (Conv2D)        (None, None, None, 64)    1792      \n",
      "_________________________________________________________________\n",
      "block1_conv2 (Conv2D)        (None, None, None, 64)    36928     \n",
      "_________________________________________________________________\n",
      "block1_pool (MaxPooling2D)   (None, None, None, 64)    0         \n",
      "_________________________________________________________________\n",
      "block2_conv1 (Conv2D)        (None, None, None, 128)   73856     \n",
      "_________________________________________________________________\n",
      "block2_conv2 (Conv2D)        (None, None, None, 128)   147584    \n",
      "_________________________________________________________________\n",
      "block2_pool (MaxPooling2D)   (None, None, None, 128)   0         \n",
      "_________________________________________________________________\n",
      "block3_conv1 (Conv2D)        (None, None, None, 256)   295168    \n",
      "_________________________________________________________________\n",
      "block3_conv2 (Conv2D)        (None, None, None, 256)   590080    \n",
      "_________________________________________________________________\n",
      "block3_conv3 (Conv2D)        (None, None, None, 256)   590080    \n",
      "_________________________________________________________________\n",
      "block3_pool (MaxPooling2D)   (None, None, None, 256)   0         \n",
      "_________________________________________________________________\n",
      "block4_conv1 (Conv2D)        (None, None, None, 512)   1180160   \n",
      "_________________________________________________________________\n",
      "block4_conv2 (Conv2D)        (None, None, None, 512)   2359808   \n",
      "_________________________________________________________________\n",
      "block4_conv3 (Conv2D)        (None, None, None, 512)   2359808   \n",
      "_________________________________________________________________\n",
      "block4_pool (MaxPooling2D)   (None, None, None, 512)   0         \n",
      "_________________________________________________________________\n",
      "block5_conv1 (Conv2D)        (None, None, None, 512)   2359808   \n",
      "_________________________________________________________________\n",
      "block5_conv2 (Conv2D)        (None, None, None, 512)   2359808   \n",
      "_________________________________________________________________\n",
      "block5_conv3 (Conv2D)        (None, None, None, 512)   2359808   \n",
      "_________________________________________________________________\n",
      "block5_pool (MaxPooling2D)   (None, None, None, 512)   0         \n",
      "=================================================================\n",
      "Total params: 14,714,688\n",
      "Trainable params: 14,714,688\n",
      "Non-trainable params: 0\n",
      "_________________________________________________________________\n",
      "19\n",
      "_________________________________________________________________\n",
      "Layer (type)                 Output Shape              Param #   \n",
      "=================================================================\n",
      "image_input (InputLayer)     (None, 32, 32, 3)         0         \n",
      "_________________________________________________________________\n",
      "vgg16 (Model)                multiple                  14714688  \n",
      "_________________________________________________________________\n",
      "flatten (Flatten)            (None, 512)               0         \n",
      "_________________________________________________________________\n",
      "fc1 (Dense)                  (None, 4096)              2101248   \n",
      "_________________________________________________________________\n",
      "fc2 (Dense)                  (None, 4096)              16781312  \n",
      "_________________________________________________________________\n",
      "predictions (Dense)          (None, 10)                40970     \n",
      "=================================================================\n",
      "Total params: 33,638,218\n",
      "Trainable params: 18,923,530\n",
      "Non-trainable params: 14,714,688\n",
      "_________________________________________________________________\n",
      "6\n"
     ]
    }
   ],
   "source": [
    "model = PretrainedModel(32,10)"
   ]
  },
  {
   "cell_type": "code",
   "execution_count": 25,
   "metadata": {},
   "outputs": [
    {
     "name": "stdout",
     "output_type": "stream",
     "text": [
      "Downloading data from http://www.cs.toronto.edu/~kriz/cifar-10-python.tar.gz\n",
      "170491904/170498071 [============================>.] - ETA: 0s"
     ]
    }
   ],
   "source": [
    "(x_train, y_train), (x_test, y_test) = cifar10.load_data()"
   ]
  },
  {
   "cell_type": "code",
   "execution_count": 28,
   "metadata": {},
   "outputs": [
    {
     "name": "stdout",
     "output_type": "stream",
     "text": [
      "[[[ 59  62  63]\n",
      "  [ 43  46  45]\n",
      "  [ 50  48  43]\n",
      "  ..., \n",
      "  [158 132 108]\n",
      "  [152 125 102]\n",
      "  [148 124 103]]\n",
      "\n",
      " [[ 16  20  20]\n",
      "  [  0   0   0]\n",
      "  [ 18   8   0]\n",
      "  ..., \n",
      "  [123  88  55]\n",
      "  [119  83  50]\n",
      "  [122  87  57]]\n",
      "\n",
      " [[ 25  24  21]\n",
      "  [ 16   7   0]\n",
      "  [ 49  27   8]\n",
      "  ..., \n",
      "  [118  84  50]\n",
      "  [120  84  50]\n",
      "  [109  73  42]]\n",
      "\n",
      " ..., \n",
      " [[208 170  96]\n",
      "  [201 153  34]\n",
      "  [198 161  26]\n",
      "  ..., \n",
      "  [160 133  70]\n",
      "  [ 56  31   7]\n",
      "  [ 53  34  20]]\n",
      "\n",
      " [[180 139  96]\n",
      "  [173 123  42]\n",
      "  [186 144  30]\n",
      "  ..., \n",
      "  [184 148  94]\n",
      "  [ 97  62  34]\n",
      "  [ 83  53  34]]\n",
      "\n",
      " [[177 144 116]\n",
      "  [168 129  94]\n",
      "  [179 142  87]\n",
      "  ..., \n",
      "  [216 184 140]\n",
      "  [151 118  84]\n",
      "  [123  92  72]]]\n"
     ]
    }
   ],
   "source": [
    "print(x_train[0])"
   ]
  },
  {
   "cell_type": "code",
   "execution_count": 29,
   "metadata": {},
   "outputs": [
    {
     "name": "stdout",
     "output_type": "stream",
     "text": [
      "50000\n"
     ]
    }
   ],
   "source": [
    "print(len(x_train))"
   ]
  },
  {
   "cell_type": "code",
   "execution_count": 30,
   "metadata": {},
   "outputs": [
    {
     "name": "stdout",
     "output_type": "stream",
     "text": [
      "(50000, 32, 32, 3)\n"
     ]
    }
   ],
   "source": [
    "print(x_train.shape)"
   ]
  },
  {
   "cell_type": "code",
   "execution_count": 34,
   "metadata": {
    "collapsed": true
   },
   "outputs": [],
   "source": [
    "np.save(\"x_train_out.npy\",x_train)\n",
    "np.save(\"y_train_out.npy\",y_train)\n",
    "np.save(\"x_test_out.npy\",x_test)\n",
    "np.save(\"y_test_out.npy\",y_test)"
   ]
  },
  {
   "cell_type": "code",
   "execution_count": 44,
   "metadata": {
    "collapsed": true
   },
   "outputs": [],
   "source": [
    "x_train = np.load(\"x_train_out.npy\")\n",
    "y_train = np.load(\"y_train_out.npy\")\n",
    "x_test = np.load(\"x_test_out.npy\")\n",
    "y_test = np.load(\"y_test_out.npy\")"
   ]
  },
  {
   "cell_type": "code",
   "execution_count": 45,
   "metadata": {},
   "outputs": [],
   "source": [
    "x_train = x_train.astype('float32')\n",
    "x_test = x_test.astype('float32')"
   ]
  },
  {
   "cell_type": "code",
   "execution_count": 46,
   "metadata": {
    "collapsed": true
   },
   "outputs": [],
   "source": [
    "#z-score\n",
    "mean = np.mean(x_train,axis=(0,1,2,3))\n",
    "std = np.std(x_train,axis=(0,1,2,3))\n",
    "x_train = (x_train-mean)/(std+1e-7)\n",
    "x_test = (x_test-mean)/(std+1e-7)"
   ]
  },
  {
   "cell_type": "code",
   "execution_count": 47,
   "metadata": {},
   "outputs": [
    {
     "name": "stdout",
     "output_type": "stream",
     "text": [
      "(50000, 1)\n"
     ]
    }
   ],
   "source": [
    "print(y_train.shape)"
   ]
  },
  {
   "cell_type": "code",
   "execution_count": 48,
   "metadata": {},
   "outputs": [
    {
     "name": "stdout",
     "output_type": "stream",
     "text": [
      "[6]\n"
     ]
    }
   ],
   "source": [
    "print(y_train[0])"
   ]
  },
  {
   "cell_type": "code",
   "execution_count": 49,
   "metadata": {},
   "outputs": [],
   "source": [
    "num_classes = 10\n",
    "y_train = np_utils.to_categorical(y_train,num_classes)\n",
    "y_test = np_utils.to_categorical(y_test,num_classes)"
   ]
  },
  {
   "cell_type": "code",
   "execution_count": 50,
   "metadata": {},
   "outputs": [
    {
     "name": "stdout",
     "output_type": "stream",
     "text": [
      "(50000, 10)\n"
     ]
    }
   ],
   "source": [
    "print(y_train.shape)"
   ]
  },
  {
   "cell_type": "code",
   "execution_count": 52,
   "metadata": {},
   "outputs": [
    {
     "name": "stdout",
     "output_type": "stream",
     "text": [
      "[ 0.  0.  0.  0.  0.  0.  1.  0.  0.  0.]\n"
     ]
    }
   ],
   "source": [
    "print(y_train[0])"
   ]
  },
  {
   "cell_type": "code",
   "execution_count": 53,
   "metadata": {
    "collapsed": true
   },
   "outputs": [],
   "source": [
    "data_augmentation = True"
   ]
  },
  {
   "cell_type": "code",
   "execution_count": 61,
   "metadata": {
    "collapsed": true
   },
   "outputs": [],
   "source": [
    "batch_size = 32\n",
    "epochs = 25"
   ]
  },
  {
   "cell_type": "code",
   "execution_count": 62,
   "metadata": {},
   "outputs": [],
   "source": [
    "opt = optimizers.rmsprop(lr=0.0001, decay=1e-6)"
   ]
  },
  {
   "cell_type": "code",
   "execution_count": 63,
   "metadata": {
    "collapsed": true
   },
   "outputs": [],
   "source": [
    "model.compile(loss = 'categorical_crossentropy',optimizer=opt,metrics = ['accuracy'])"
   ]
  },
  {
   "cell_type": "code",
   "execution_count": 64,
   "metadata": {
    "scrolled": true
   },
   "outputs": [
    {
     "name": "stdout",
     "output_type": "stream",
     "text": [
      "-------------Using Data augmentation------------\n",
      "Epoch 1/25\n",
      "1562/1562 [==============================] - 1815s - loss: 1.1554 - acc: 0.5947 - val_loss: 1.0192 - val_acc: 0.6389\n",
      "Epoch 2/25\n",
      "1562/1562 [==============================] - 1793s - loss: 0.9580 - acc: 0.6633 - val_loss: 0.9518 - val_acc: 0.6738\n",
      "Epoch 3/25\n",
      "1562/1562 [==============================] - 1792s - loss: 0.8774 - acc: 0.6936 - val_loss: 0.9483 - val_acc: 0.6766\n",
      "Epoch 4/25\n",
      "1562/1562 [==============================] - 1765s - loss: 0.8208 - acc: 0.7129 - val_loss: 0.9560 - val_acc: 0.6769\n",
      "Epoch 5/25\n",
      "1562/1562 [==============================] - 1764s - loss: 0.7754 - acc: 0.7340 - val_loss: 0.9615 - val_acc: 0.6861\n",
      "Epoch 6/25\n",
      "1562/1562 [==============================] - 1768s - loss: 0.7360 - acc: 0.7477 - val_loss: 1.0011 - val_acc: 0.6756\n",
      "Epoch 7/25\n",
      "1562/1562 [==============================] - 1766s - loss: 0.6984 - acc: 0.7628 - val_loss: 1.0030 - val_acc: 0.6910\n",
      "Epoch 8/25\n",
      "1562/1562 [==============================] - 1784s - loss: 0.6683 - acc: 0.7746 - val_loss: 1.0375 - val_acc: 0.6878\n",
      "Epoch 9/25\n",
      "1562/1562 [==============================] - 1760s - loss: 0.6387 - acc: 0.7856 - val_loss: 1.0570 - val_acc: 0.6889\n",
      "Epoch 10/25\n",
      "1562/1562 [==============================] - 1761s - loss: 0.6109 - acc: 0.7964 - val_loss: 1.0499 - val_acc: 0.6887\n",
      "Epoch 11/25\n",
      "1562/1562 [==============================] - 1761s - loss: 0.5833 - acc: 0.8060 - val_loss: 1.1299 - val_acc: 0.6916\n",
      "Epoch 12/25\n",
      "1562/1562 [==============================] - 1760s - loss: 0.5649 - acc: 0.8152 - val_loss: 1.1213 - val_acc: 0.6874\n",
      "Epoch 13/25\n",
      "1562/1562 [==============================] - 1761s - loss: 0.5402 - acc: 0.8213 - val_loss: 1.1909 - val_acc: 0.6833\n",
      "Epoch 14/25\n",
      "1562/1562 [==============================] - 1771s - loss: 0.5169 - acc: 0.8310 - val_loss: 1.1711 - val_acc: 0.6895\n",
      "Epoch 15/25\n",
      "1562/1562 [==============================] - 1762s - loss: 0.5006 - acc: 0.8384 - val_loss: 1.2361 - val_acc: 0.6845\n",
      "Epoch 16/25\n",
      "1562/1562 [==============================] - 1763s - loss: 0.4816 - acc: 0.8425 - val_loss: 1.2695 - val_acc: 0.6848\n",
      "Epoch 17/25\n",
      "1562/1562 [==============================] - 1777s - loss: 0.4615 - acc: 0.8502 - val_loss: 1.2921 - val_acc: 0.6819\n",
      "Epoch 18/25\n",
      "1562/1562 [==============================] - 1790s - loss: 0.4483 - acc: 0.8552 - val_loss: 1.3211 - val_acc: 0.6853\n",
      "Epoch 19/25\n",
      "1562/1562 [==============================] - 1818s - loss: 0.4366 - acc: 0.8608 - val_loss: 1.3100 - val_acc: 0.6855\n",
      "Epoch 20/25\n",
      "1562/1562 [==============================] - 1790s - loss: 0.4168 - acc: 0.8678 - val_loss: 1.3716 - val_acc: 0.6836\n",
      "Epoch 21/25\n",
      "1562/1562 [==============================] - 1800s - loss: 0.4095 - acc: 0.8717 - val_loss: 1.3675 - val_acc: 0.6858\n",
      "Epoch 22/25\n",
      "1562/1562 [==============================] - 1822s - loss: 0.4019 - acc: 0.8747 - val_loss: 1.3896 - val_acc: 0.6823\n",
      "Epoch 23/25\n",
      "1562/1562 [==============================] - 1824s - loss: 0.3868 - acc: 0.8795 - val_loss: 1.4203 - val_acc: 0.6851\n",
      "Epoch 24/25\n",
      "1562/1562 [==============================] - 1830s - loss: 0.3826 - acc: 0.8820 - val_loss: 1.4118 - val_acc: 0.6909\n",
      "Epoch 25/25\n",
      "1562/1562 [==============================] - 1835s - loss: 0.3641 - acc: 0.8884 - val_loss: 1.5069 - val_acc: 0.6860\n"
     ]
    }
   ],
   "source": [
    "if data_augmentation :\n",
    "    print(\"-------------Using Data augmentation------------\")\n",
    "     # This will do preprocessing and realtime data augmentation:\n",
    "    datagen = ImageDataGenerator(\n",
    "        featurewise_center=False,  # set input mean to 0 over the dataset\n",
    "        samplewise_center=False,  # set each sample mean to 0\n",
    "        featurewise_std_normalization=False,  # divide inputs by std of the dataset\n",
    "        samplewise_std_normalization=False,  # divide each input by its std\n",
    "        zca_whitening=False,  # apply ZCA whitening\n",
    "        rotation_range=0,  # randomly rotate images in the range (degrees, 0 to 180)\n",
    "        width_shift_range=0.1,  # randomly shift images horizontally (fraction of total width)\n",
    "        height_shift_range=0.1,  # randomly shift images vertically (fraction of total height)\n",
    "        horizontal_flip=True,  # randomly flip images\n",
    "        vertical_flip=False)  # randomly flip images\n",
    "    \n",
    "    datagen.fit(x_train)\n",
    "    model.fit_generator(datagen.flow(x_train, y_train, batch_size=batch_size),\n",
    "                        steps_per_epoch=x_train.shape[0] // batch_size,\n",
    "                        epochs=epochs,verbose=1,validation_data=(x_test,y_test))\n",
    "    \n",
    "else :\n",
    "    print(\"-----Not Using Data augmentation---------------\")\n",
    "    model.fit(x_train, y_train,\n",
    "              batch_size=batch_size,\n",
    "              epochs=epochs,\n",
    "              validation_data=(x_test, y_test),\n",
    "              shuffle=True)\n",
    "    \n",
    "    \n",
    "    "
   ]
  },
  {
   "cell_type": "code",
   "execution_count": 65,
   "metadata": {
    "collapsed": true
   },
   "outputs": [],
   "source": [
    "model.save_weights(\"cifar_rms_epoch25.h5\")"
   ]
  },
  {
   "cell_type": "code",
   "execution_count": null,
   "metadata": {
    "collapsed": true
   },
   "outputs": [],
   "source": []
  }
 ],
 "metadata": {
  "kernelspec": {
   "display_name": "Python 2",
   "language": "python",
   "name": "python2"
  },
  "language_info": {
   "codemirror_mode": {
    "name": "ipython",
    "version": 2
   },
   "file_extension": ".py",
   "mimetype": "text/x-python",
   "name": "python",
   "nbconvert_exporter": "python",
   "pygments_lexer": "ipython2",
   "version": "2.7.12"
  }
 },
 "nbformat": 4,
 "nbformat_minor": 2
}
